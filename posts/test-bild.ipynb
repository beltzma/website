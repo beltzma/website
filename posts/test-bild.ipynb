{
 "metadata": {
  "name": "",
  "signature": "sha256:8601c641df75a04161c75fd4282bdfbe9b0824053f2e392b9bc4771222dfd9ee"
 },
 "nbformat": 3,
 "nbformat_minor": 0,
 "worksheets": [
  {
   "cells": [
    {
     "cell_type": "code",
     "collapsed": false,
     "input": [
      "from IPython.display import Image\n",
      "Image(url='http://b9i.de/galleries/sailing/SSL-Torbole-5784.jpg')"
     ],
     "language": "python",
     "metadata": {},
     "outputs": [
      {
       "html": [
        "<img src=\"http://b9i.de/galleries/sailing/SSL-Torbole-5784.jpg\"/>"
       ],
       "metadata": {},
       "output_type": "pyout",
       "prompt_number": 2,
       "text": [
        "<IPython.core.display.Image at 0x10cc88710>"
       ]
      }
     ],
     "prompt_number": 2
    },
    {
     "cell_type": "code",
     "collapsed": false,
     "input": [],
     "language": "python",
     "metadata": {},
     "outputs": []
    }
   ],
   "metadata": {}
  }
 ]
}