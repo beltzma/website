{
 "cells": [
  {
   "cell_type": "markdown",
   "metadata": {
    "collapsed": true
   },
   "source": [
    "## Update Octoprint BeagleBoneBlack\n",
    "Cape zum Ansteuern eines 3D Druckers mit BeagleBoneBlack\n",
    "* [Replicape](http://thing-printer.com)\n",
    "* passende Software dazu: [Redeem](http://.thing-printer.com/index.php?title=Redeem)\n",
    "    \n",
    "Das Image ist ein Debian Jessie, welches via:\n",
    "<!-- TEASER_END -->\n",
    "    "
   ]
  },
  {
   "cell_type": "markdown",
   "metadata": {},
   "source": [
    "`apt-get update`\n",
    "\n",
    "`apt-get -y upgrade`"
   ]
  },
  {
   "cell_type": "markdown",
   "metadata": {},
   "source": [
    "auf den neuesten Stand gebracht wird.\n",
    "Dabei tritt leider ein kleiner Fehler auf:\n",
    "Im Paket octoprint-1.2.8 welches sich via thing-printer.com installiert sind die Abhängigkeiten falsch:\n",
    "\n",
    "* Es wird python-serial installiert\n",
    "* zum start aber python-pyserial erwartet\n",
    "\n",
    "und noch so ein paar Probleme, ich habe das Paket octoprint-1.2.8 von thing-printer.com entsprechend geändert. D.h. man deinstalliert das Paket vollständig und installiert mein Paket! Dann funktioniert auch alles\n",
    "\n",
    "### Backup der Konfigfiles!!!"
   ]
  }
 ],
 "metadata": {
  "kernelspec": {
   "display_name": "Python 3",
   "language": "python",
   "name": "python3"
  },
  "language_info": {
   "codemirror_mode": {
    "name": "ipython",
    "version": 3
   },
   "file_extension": ".py",
   "mimetype": "text/x-python",
   "name": "python",
   "nbconvert_exporter": "python",
   "pygments_lexer": "ipython3",
   "version": "3.5.1"
  }
 },
 "nbformat": 4,
 "nbformat_minor": 0
}
