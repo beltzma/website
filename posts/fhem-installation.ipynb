{
 "cells": [
  {
   "cell_type": "markdown",
   "metadata": {},
   "source": [
    "## FHEM Installation\n",
    "\n",
    "Die Installation auf einen BBB mit Debian Jessie ist leicht:\n",
    "\n",
    "`wget -qO - https://debian.fhem.de/archive.key | apt-key add -`\n",
    "\n",
    "Dies sollte mit OK quittiert werden, dann noch https fuer apt-get nachinstallieren:\n",
    "<!-- TEASER_END -->\n",
    "\n",
    "`apt-get install apt-transport-https`\n",
    "\n",
    "Dies ist noetig da das Fhem Repo nur via https erreichbar ist.\n",
    "\n",
    "`echo \"deb https://debian.fhem.de/stable ./\" >> /etc/apt/sources.list`\n",
    "\n",
    "`apt-get update`\n",
    "\n",
    "* minimal installation: `apt-get install fhem `\n",
    "* mit allen Empfehlungen: `apt-get install sqlite3 libdbd-sqlite3-perl libtext-diff-perl libmail-imapclient-perl libgd-graph-perl libtext-csv-perl libxml-simple-perl liblist-moreutils-perl ttf-liberation libimage-librsvg-perl libgd-text-perl libsocket6-perl libio-socket-inet6-perl libimage-info-perl libjson-perl fhem`\n",
    "\n",
    "Um einen CUL am USB Port zu betreiben ist min. `libjson-perl` noch noetig!\n",
    "\n",
    "um die Schreib/Lesevorgaenge auf den eMMC zu verringern, verlege ich noch 2 Verzeichnisse in die Ramdisk, der Inhalt dieser Verzeichnisse ubersteht dann zwar keinen Neustart mehr, aber besser so als staendig in den eMMC zu schreiben!\n",
    "```\n",
    "echo \"none /var/log tmpfs size=5M,noatime 00\" >> /etc/fstab\n",
    "echo \"none /opt/fhem/log tmpfs size=20M,noatime 00\" >> /etc/fstab\n",
    "chown fhem.dialout /opt/fhem/log\n",
    "\n",
    "```\n",
    "gleichzeitig wurde noch eine SD-Karte mit eingesteckt. Auf diese wird das Backup von FHEM gespeichert! Dazu sind folgende Schritte noetig:\n",
    "\n",
    "```\n",
    "mkdir /opt/fhem/backup\n",
    "chown fhem.dialout /opt/fhem/backup\n",
    "mkfs.ext4 -j /dev/mmcblk1pX\n",
    "blkid\n",
    "```\n",
    "\n",
    "wobei das \"X\" fuer die Partitionsnr. steht. Nach dem Befehl `blkid` die richtige UUID fuer die Partition \"X\" heraussuchen und mit \n",
    "```\n",
    "echo \"UUID=<Nummer aus blkid> /opt/fhem/backup        ext4 noatime,errors=remount-ro  00\" >> /etc/fstab\n",
    "```\n",
    " einfuegen.\n",
    " \n",
    "In der Kommandozeile vom FHEM sollte dazu noch folgendes nacheinander Konfiguriert werden! Auf keinen Fall \"SAVE Konfig\" vergessen!\n",
    "\n",
    "```\n",
    "define NTFY_BackupRun at *23:59:00 set SYS_Backup\n",
    "```\n",
    "```\n",
    "attr NTFY_BackupRun room Server\n",
    "```\n",
    "\n",
    "Links:\n",
    "* [FHEM](http://fhem.de)\n",
    "* [FHEM Debian Repo](https://debian.fhem.de)\n",
    "* [FHEM auf Rasberry](https://raspberry.tips/hausautomatisierung/hausautomatisierung-mit-fhem-teil-2-fhem-installation-und-einrichtung-auf-dem-raspberry-pi/)"
   ]
  }
 ],
 "metadata": {
  "kernelspec": {
   "display_name": "Python 3",
   "language": "python",
   "name": "python3"
  },
  "language_info": {
   "codemirror_mode": {
    "name": "ipython",
    "version": 3
   },
   "file_extension": ".py",
   "mimetype": "text/x-python",
   "name": "python",
   "nbconvert_exporter": "python",
   "pygments_lexer": "ipython3",
   "version": "3.5.0"
  }
 },
 "nbformat": 4,
 "nbformat_minor": 0
}
