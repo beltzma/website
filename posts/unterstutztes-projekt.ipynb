{
 "cells": [
  {
   "cell_type": "markdown",
   "metadata": {
    "collapsed": false
   },
   "source": [
    "Eine hervorragende Idee, damit könnten selbst wieder einige Projekte realisiert werden. Bin gespannt in welchem Format das Layout erscheint."
   ]
  },
  {
   "cell_type": "markdown",
   "metadata": {},
   "source": [
    "<iframe width=\"480\" height=\"360\" src=\"https://www.kickstarter.com/projects/beaglecore/beaglecore-100-open-source-iot-device/widget/video.html\" frameborder=\"0\" scrolling=\"no\"> </iframe>"
   ]
  },
  {
   "cell_type": "markdown",
   "metadata": {},
   "source": [
    "Link zum Projekt, bitte mitmachen! Ich denke da würden sich einige sehr interesante Sachen entwickeln lassen! http://kck.st/1drkDj3"
   ]
  }
 ],
 "metadata": {
  "kernelspec": {
   "display_name": "Python 3",
   "language": "python",
   "name": "python3"
  },
  "language_info": {
   "codemirror_mode": {
    "name": "ipython",
    "version": 3
   },
   "file_extension": ".py",
   "mimetype": "text/x-python",
   "name": "python",
   "nbconvert_exporter": "python",
   "pygments_lexer": "ipython3",
   "version": "3.4.3"
  }
 },
 "nbformat": 4,
 "nbformat_minor": 0
}
