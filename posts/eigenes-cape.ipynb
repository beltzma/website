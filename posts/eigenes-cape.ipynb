{
 "cells": [
  {
   "cell_type": "code",
   "execution_count": null,
   "metadata": {
    "collapsed": true
   },
   "outputs": [],
   "source": [
    "## Selbstentwickeltes Cape fuer BeagleBoneBlack\n",
    "Cape für die Kommunikation via ISO-SPI und Can-Bus\n",
    "* [SPI](http://de.wikipedia.org/wiki/Serial_Peripheral_Interface)\n",
    "* [Can-Bus](http://de.wikipedia.org/wiki/Controller_Area_Network)\n",
    "* [ISO-SPI](http://www.linear.com/product/LTC6820)\n",
    "\n",
    "Der Can-Bus ist galvanisch getrennt. Dazu muss das BBB aber mit einer externen Stromversorgung mit 5V versorgt werden.\n",
    "\n",
    "<!-- TEASER_END -->\n",
    "\n",
    "<img src=\"http://b9i.de/cape_unbestueckt.jpg\" alt=\"unbestueckt\" width=400px />\n",
    "\n",
    "Leider haben sich beim ersten Entwurf gleich ein paar Fehler eingeschlichen. So habe ich die Pullup-Widerstaende fuer den I2C Bus zur Kommunikation mit dem eeprom vergessen. Siehe folgendes Bild:\n",
    "\n",
    "<img src=\"http://b9i.de/cape_bestueckt.jpg\" alt=\"bestueckt\" width=400px />"
   ]
  }
 ],
 "metadata": {
  "kernelspec": {
   "display_name": "Python 3",
   "language": "python",
   "name": "python3"
  },
  "language_info": {
   "codemirror_mode": {
    "name": "ipython",
    "version": 3
   },
   "file_extension": ".py",
   "mimetype": "text/x-python",
   "name": "python",
   "nbconvert_exporter": "python",
   "pygments_lexer": "ipython3",
   "version": "3.5.1"
  }
 },
 "nbformat": 4,
 "nbformat_minor": 0
}
