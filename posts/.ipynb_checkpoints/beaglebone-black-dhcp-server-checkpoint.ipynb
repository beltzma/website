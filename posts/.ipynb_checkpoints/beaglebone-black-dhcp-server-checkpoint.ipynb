{
 "cells": [
  {
   "cell_type": "markdown",
   "metadata": {},
   "source": [
    "### Installation DHCP Server für das USB0 Interface\n",
    "\n",
    "```\n",
    "apt-get install udhcpd\n",
    "```\n",
    "<!-- TEASER_END -->"
   ]
  },
  {
   "cell_type": "markdown",
   "metadata": {},
   "source": [
    "vim /etc/udhcpd.conf"
   ]
  },
  {
   "cell_type": "markdown",
   "metadata": {},
   "source": [
    "```\n",
    "start      192.168.7.1\n",
    "end        192.168.7.1\n",
    "interface  usb0\n",
    "max_leases 1\n",
    "option subnet 255.255.255.252\n",
    "```"
   ]
  },
  {
   "cell_type": "markdown",
   "metadata": {},
   "source": [
    "in folgende Datei die Zeile hinzufügen:\n",
    "\n",
    "vim /etc/network/interfaces\n",
    "```\n",
    "allow-hotplug usb0\n",
    "```"
   ]
  },
  {
   "cell_type": "markdown",
   "metadata": {},
   "source": [
    "es sollte folgende Datei angelegt werden:\n",
    "\n",
    "vim /etc/network/if-up.d/udhcpd"
   ]
  },
  {
   "cell_type": "markdown",
   "metadata": {
    "collapsed": false
   },
   "source": [
    "```\n",
    "#! /bin/sh\n",
    "# Reload the udhcpd server when interface usb0 comes up, to allow it to start\n",
    "#\n",
    "\n",
    "set -e\n",
    "\n",
    "if [ \"$IFACE\" = usb0 ]; then\n",
    "\n",
    "        # Only run from ifup.\n",
    "        if [ \"$MODE\" != start ]; then\n",
    "                exit 0\n",
    "        fi\n",
    "\n",
    "        # Is /usr mounted?\n",
    "                if [ ! -e /usr/sbin/udhcpd ]; then\n",
    "                exit 0\n",
    "        fi\n",
    "\n",
    "        if [ -d /run/systemd/system ]; then\n",
    "                action=restart\n",
    "                systemctl $action udhcpd >/dev/null 2>&1 || true\n",
    "        fi\n",
    "fi\n",
    "\n",
    "exit 0\n",
    "```"
   ]
  }
 ],
 "metadata": {
  "kernelspec": {
   "display_name": "Python 3",
   "language": "python",
   "name": "python3"
  },
  "language_info": {
   "codemirror_mode": {
    "name": "ipython",
    "version": 3
   },
   "file_extension": ".py",
   "mimetype": "text/x-python",
   "name": "python",
   "nbconvert_exporter": "python",
   "pygments_lexer": "ipython3",
   "version": "3.4.3"
  }
 },
 "nbformat": 4,
 "nbformat_minor": 0
}
