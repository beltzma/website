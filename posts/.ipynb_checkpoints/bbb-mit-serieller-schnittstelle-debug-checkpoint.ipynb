{
 "cells": [
  {
   "cell_type": "markdown",
   "metadata": {
    "collapsed": false
   },
   "source": [
    "## Serielle Schnittstelle am BeagleBoneBlack nutzen\n",
    "\n",
    "um die serielle Schnittstelle am BBB nutzen zu können braucht man einen UART-USB-Adapter! Die Pegel am BeagleBone sind lediglich 5V\n",
    "\n",
    "![Anschliessen](http://b9i.de/seriell_debug_BBB.jpg)\n",
    "\n",
    "Die mit \"Debug\" gekennzeichnete Stiftleite ist folgendermassen belegt:\n",
    "beginnend Links (bei der RJ45 Buchse)\n",
    "\n",
    "* Pin1: GND\n",
    "* Pin4: RX\n",
    "* Pin5: TX\n",
    "\n",
    "###Baudrate 115200"
   ]
  }
 ],
 "metadata": {
  "kernelspec": {
   "display_name": "Python 3",
   "language": "python",
   "name": "python3"
  },
  "language_info": {
   "codemirror_mode": {
    "name": "ipython",
    "version": 3
   },
   "file_extension": ".py",
   "mimetype": "text/x-python",
   "name": "python",
   "nbconvert_exporter": "python",
   "pygments_lexer": "ipython3",
   "version": "3.4.3"
  }
 },
 "nbformat": 4,
 "nbformat_minor": 0
}
