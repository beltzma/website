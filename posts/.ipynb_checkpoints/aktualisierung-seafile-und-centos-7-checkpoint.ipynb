{
 "cells": [
  {
   "cell_type": "markdown",
   "metadata": {},
   "source": [
    "Mehrere Major Updates zwingen mich dazu die Anleitung zu ergänzen:\n"
   ]
  },
  {
   "cell_type": "markdown",
   "metadata": {},
   "source": [
    "Seafile Server 3.1.6"
   ]
  },
  {
   "cell_type": "markdown",
   "metadata": {},
   "source": [
    "Centos 7"
   ]
  },
  {
   "cell_type": "markdown",
   "metadata": {},
   "source": [
    "<!-- TEASER_END -->\n",
    "\n",
    "Die Installation von Centos 7 erfolgt im Prinzip wie gewohnt. Ist etwas bunter aber grundsätzlich gleich, *ABER* Centos 7 ist jetzt `systemctl` basiert. Bei der Installation vom Apache 2.4.x fällt ausserdem auf, dass es kein rpm-Paket mehr für fastcgi gibt!\n",
    "\n",
    "Daher wird der Seafile Server jetzt via mod_proxy angesprochen!"
   ]
  },
  {
   "cell_type": "markdown",
   "metadata": {},
   "source": [
    "Seafile Installation\n",
    "---\n",
    "\n",
    "Alles wie gehabt!\n",
    "Es gibt jetzt auch eine deutschsprachige Webseite zu Seafile! <https://www.seafile-server.de>\n",
    "\n",
    "Interessant wird es eigentlich erst beim Startup:\n",
    "\n",
    "Centos 7 ist ist jetzt `systemctl` basiert. Dadurch ist die Startup Prozedur in 2 Scripte aufgeteilt:\n",
    "\n",
    "`/usr/lib/systemd/scripts/seafile-server`\n"
   ]
  },
  {
   "cell_type": "markdown",
   "metadata": {},
   "source": [
    "    #!/bin/bash\n",
    "    #\n",
    "    # description: start seafile-server\n",
    "\n",
    "    user=seafile\n",
    "    script_path=/srv/seafile/b9i/seafile-server-latest\n",
    "\n",
    "    start() {\n",
    "        sudo -u ${user} ${script_path}/seafile.sh start > /tmp/seafile.init.log 2>&1\n",
    "        sudo -u ${user} ${script_path}/seahub.sh start > /tmp/seahub.init.log 2>&1\n",
    "\n",
    "        return $RETVAL\n",
    "    }\n",
    "\n",
    "\n",
    "    stop() {\n",
    "        sudo -u ${user} ${script_path}/seafile.sh stop\n",
    "        sudo -u ${user} ${script_path}/seahub.sh stop\n",
    "    }\n",
    "\n",
    "    # See how we were called.\n",
    "    case \"$1\" in\n",
    "    start)\n",
    "        start\n",
    "        ;;\n",
    "    stop)\n",
    "        stop\n",
    "        ;;\n",
    "    restart|force-reload)\n",
    "        stop\n",
    "        start\n",
    "        ;;\n",
    "    *)\n",
    "        echo $\"Usage: $0 {start|stop|restart|force-reload}\"\n",
    "        exit 2\n",
    "    esac"
   ]
  },
  {
   "cell_type": "markdown",
   "metadata": {},
   "source": [
    "`/usr/lib/systemd/system/seafile.service`"
   ]
  },
  {
   "cell_type": "markdown",
   "metadata": {},
   "source": [
    "    [Unit]\n",
    "    Description=Seafile Server Startup\n",
    "\n",
    "    [Service]\n",
    "    Type=forking\n",
    "    ExecStart=/usr/lib/systemd/scripts/seafile-server start\n",
    "    ExecStop=/usr/lib/systemd/scripts/seafile-server stop\n",
    "\n",
    "    [Install]\n",
    "    WantedBy=multi-user.target"
   ]
  },
  {
   "cell_type": "markdown",
   "metadata": {},
   "source": [
    "Dann kann Seafile via \n",
    "`systemctl start seafile.service`\n",
    "gestartet werden. Gestoppt wird es via\n",
    "`systemctl stop seafile.service`\n",
    "\n",
    "Und am wichtigsten: `systemctl status seafile.service`\n",
    "\n",
    "Eine sehr gute Einweisung zu systemctl habe ich auf folgender Webseite gefunden: <http://www.cromwell-intl.com/linux/linux-boot.html#systemd>"
   ]
  },
  {
   "cell_type": "markdown",
   "metadata": {},
   "source": [
    "Sudo anpassen\n",
    "---\n",
    "\n",
    "Da von systemctl das Script ohne pseudotty gestartet wird, bricht der sudo Befehl ab!\n",
    "bitte folgendes aus mit `visudo` in der Konfig von sudo auskommentieren:\n",
    "\n",
    "    #Defaults    requiretty"
   ]
  },
  {
   "cell_type": "markdown",
   "metadata": {},
   "source": [
    "httpd anpassen (Apache Version 2.4.x)\n",
    "---\n",
    "\n",
    "Die folgenden Anweissungen müssen in die Konfigdatei vom Apache eingefugt werden. Da bei mir der Seafile Server in einer VirtualHost Umgebung läuft, zwischen:\n",
    "`<VirtualHost *:80> --- </VirtualHost>`\n",
    "\n",
    "    RewriteEngine On\n",
    "\n",
    "    #\n",
    "    # seafile httpserver\n",
    "    #\n",
    "      ProxyPass /seafhttp http://127.0.0.1:8082 retry=0\n",
    "      ProxyPassReverse /seafhttp http://127.0.0.1:8082\n",
    "      RewriteRule ^/seafhttp - [QSA,L]\n",
    "\n",
    "\n",
    "    #\n",
    "    # seafile webdav\n",
    "    #\n",
    "      ProxyPassReverse /seafdav http://127.0.0.1:8080\n",
    "\n",
    "    #\n",
    "    # seahub\n",
    "    #\n",
    "      ProxyPass / http://127.0.0.1:8000/\n",
    "      ProxyPassReverse / http://127.0.0.1:8000\n",
    "      RewriteRule ^/(media.*)$ /$1 [QSA,L,PT]\n",
    "\n",
    "Diese Konfiguration läuft bei mir sehr gut und stabil. Ich vermisse daher mod_fcgid nicht! "
   ]
  },
  {
   "cell_type": "markdown",
   "metadata": {},
   "source": [
    "Um Vorschläge wie man die \"init\" Scripte von `systemctl` besser machen kann wäre ich sehr dankbar."
   ]
  }
 ],
 "metadata": {
  "kernelspec": {
   "display_name": "Python 3",
   "language": "python",
   "name": "python3"
  },
  "language_info": {
   "codemirror_mode": {
    "name": "ipython",
    "version": 3
   },
   "file_extension": ".py",
   "mimetype": "text/x-python",
   "name": "python",
   "nbconvert_exporter": "python",
   "pygments_lexer": "ipython3",
   "version": "3.4.3"
  }
 },
 "nbformat": 4,
 "nbformat_minor": 0
}
