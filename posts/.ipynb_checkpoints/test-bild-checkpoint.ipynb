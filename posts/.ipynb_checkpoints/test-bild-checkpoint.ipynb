{
 "metadata": {
  "name": "",
  "signature": "sha256:a327d6fc85a46240f2e6ebe564aa6110ffd82085dc4ebf3dee0501f0fcd93f6d"
 },
 "nbformat": 3,
 "nbformat_minor": 0,
 "worksheets": [
  {
   "cells": [
    {
     "cell_type": "code",
     "collapsed": false,
     "input": [
      "from IPython.display import Image\n",
      "Image(url='http://b9i.de/galleries/sailing/SSL-Torbole-5784.jpg')"
     ],
     "language": "python",
     "metadata": {},
     "outputs": [
      {
       "html": [
        "<img src=\"http://b9i.de/galleries/sailing/SSL-Torbole-5784.jpg\"/>"
       ],
       "metadata": {},
       "output_type": "pyout",
       "prompt_number": 1,
       "text": [
        "<IPython.core.display.Image at 0x108a20a90>"
       ]
      }
     ],
     "prompt_number": 1
    },
    {
     "cell_type": "code",
     "collapsed": false,
     "input": [],
     "language": "python",
     "metadata": {},
     "outputs": []
    }
   ],
   "metadata": {}
  }
 ]
}