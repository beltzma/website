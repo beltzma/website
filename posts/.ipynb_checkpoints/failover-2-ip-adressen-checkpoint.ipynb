{
 "metadata": {
  "name": "",
  "signature": "sha256:fd528665470c7ad35b24652a5d74155c8b0e7e750452957a2dcbb26c29a58e80"
 },
 "nbformat": 3,
 "nbformat_minor": 0,
 "worksheets": [
  {
   "cells": [
    {
     "cell_type": "markdown",
     "metadata": {},
     "source": [
      "## Failover 2 Gateways\n",
      "\n",
      "Im vorherigen Post wurde die Konfiguration von 2 IP-Adressen beschrieben die beide mit dem Internet verbunden sind. Meist ist dabei aber der Sinn das man bei einem Ausfall der Verbindung auf die andere umschalten kann. Dies ist durch setzten der Default Route ohne weiteres m\u00f6glich.\n",
      "\n",
      "Sapnnend wird es jedoch wenn diese Umschaltung automatisch erfolgt!\n",
      "<!-- TEASER_END -->\n",
      "\n",
      "Selbes Scenario wie im Post vorher:\n",
      "\n",
      "![Failover](http://b9i.de/failover.svg)\n",
      "\n",
      "### Manuelle Umschaltung:\n",
      "\n",
      "dazu gibt es 2 m\u00f6gliche Befehle:\n",
      "\n",
      "#### klassisch via `route`\n",
      "\n",
      "    route del default\n",
      "    route add default gw $Gateway1\n",
      "\n",
      "#### via Iproute2\n",
      "\n",
      "`ip route replace default via $Gateway1 dev eth1`\n",
      "\n",
      "dabei wird die alte Route geloescht und die neue gleich eingetragen. Diese Kommando ist atomar, dh. es wird komplett ausgef\u00fchrt. Oder gar nicht. Sehr praktisch wenn die Umschaltung Remote erfolgt. Im *klassischen* Fall kann es wenn keine Vorkehrungen getroffen werden, bzw. das Netz nicht komplett sauber, wie im ersten Post beschrieben wurde, konfiguriert wurde, dass man dann keinen Zugriff mehr auf die Maschine hat.\n",
      "\n",
      "## automatische Umschaltung\n",
      "\n",
      "z.B. via Monit <http://mmonit.com/monit/>, dies ist ein kleines \u00dcberwachungstool. Es ist nicht so m\u00e4chtig wie Nagios oder check_mk, aber f\u00fcr diesen Zweck viel besser geeignet weil es schneller aufgesetzt und erheblich weniger Resourcen verbraucht.\n",
      "\n",
      "### Installation monit\n",
      "\n",
      "einfach der Anleitung auf der Homepage folgen. Alle Beschreibungen und Beispiele gehen von einem anderen Pfad aus! Bei Centos ist der Pfad zur Konfigdatei: `/etc/monit.conf`\n",
      "\n",
      "### \u00dcberwachung der Internetverbindung\n",
      "Eigentlich testet man immer einen Host im Internet der ziemlich sicher erreichbar ist. z.B. <http://web.de> dies w\u00fcrde in diesem Fall nicht zum gew\u00fcnschten Ergebnis f\u00fchren. \n",
      "\n",
      "* direkt den Gateway anbingen: \n",
      "** Vorteil: wenn die Verbindung wieder da ist kann wieder zur\u00fcck geschalten werden.\n",
      "** Nachteil: Unterbrechungen beim Provider werden nicht detektiert.\n",
      "\n",
      "* Internet Host anpingen:\n",
      "** Sollte eigentlich \u00fcber beide Provider erreichbar sein** -> wenn der Link wieder online ist wird nicht gemerkt\n",
      "\n",
      "mit folgender Eintrag im Konfigurationsfile von Monit kann dann umgeschalten werden:"
     ]
    },
    {
     "cell_type": "code",
     "collapsed": false,
     "input": [
      "    check host Gateway with address $Gateway1\n",
      "        if failed icmp type echo count 3 with timeout 20 seconds then exec \"/sbin/ip route replace default via $Gateway2 dev eth2\"\n",
      "        else if recovered then exec \"/sbin/ip route replace default via $Gateway1 dev eth1\"\n",
      "        alert <email-adresse>\n",
      "        "
     ],
     "language": "python",
     "metadata": {},
     "outputs": []
    },
    {
     "cell_type": "markdown",
     "metadata": {},
     "source": [
      "wieder muessen die Variablen $Gateway[12] durch echte Werte ersetzt werden. "
     ]
    }
   ],
   "metadata": {}
  }
 ]
}