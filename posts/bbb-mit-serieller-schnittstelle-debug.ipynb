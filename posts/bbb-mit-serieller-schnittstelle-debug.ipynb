{
 "cells": [
  {
   "cell_type": "markdown",
   "metadata": {
    "collapsed": false
   },
   "source": [
    "## Serielle Schnittstelle am BeagleBoneBlack nutzen\n",
    "\n",
    "um die serielle Schnittstelle am BBB nutzen zu können braucht man einen UART-USB-Adapter! Die Pegel am BeagleBone sind lediglich 5V\n",
    "\n",
    "![Anschliessen](../images/seriell_debug_BBB.jpg)\n",
    "\n",
    "<!-- TEASER_END -->\n",
    "\n",
    "Die mit \"Debug\" gekennzeichnete Stiftleite ist folgendermassen belegt:\n",
    "beginnend Links (bei der RJ45 Buchse)\n",
    "\n",
    "* Pin1: GND\n",
    "* Pin4: RX\n",
    "* Pin5: TX\n",
    "\n",
    "###Baudrate 115200"
   ]
  },
  {
   "cell_type": "markdown",
   "metadata": {},
   "source": [
    "## EDIT:\n",
    "\n",
    "mit folgender Befehl kann man sich dann auf das BBB verbinden:\n",
    "\n",
    "`picocom -b 115200 /dev/tty.SLAB_USBtoUART`\n",
    "\n",
    "Dieses Device tty.SLAB_USBtoUART ist allerdings Mac OS X spezifisch! Unter Linux ist der Name ein anderer! Lasst sich aber mit `dmesg` recht leicht herausfinden. In dieser Ausgabe sollte am Ende (bzw. zu dem Zeitpunkt wann das BBB angeschlossen wurde) auf das entsprechende Device hingewiesen werden. Als Beispiel ist ein Auszug von einem Fedora System gezeigt:\n",
    "\n",
    "```\n",
    "[104186.340498] usb 1-1: new full-speed USB device number 7 using xhci_hcd\n",
    "[104186.506325] usb 1-1: New USB device found, idVendor=10c4, idProduct=ea60\n",
    "[104186.506331] usb 1-1: New USB device strings: Mfr=1, Product=2, SerialNumber=3\n",
    "[104186.506335] usb 1-1: Product: CP2102 USB to UART Bridge Controller\n",
    "[104186.506338] usb 1-1: Manufacturer: Silicon Labs\n",
    "[104186.506341] usb 1-1: SerialNumber: 0001\n",
    "[104187.540052] usbcore: registered new interface driver cp210x\n",
    "[104187.540085] usbserial: USB Serial support registered for cp210x\n",
    "[104187.540145] cp210x 1-1:1.0: cp210x converter detected\n",
    "[104187.540354] usb 1-1: cp210x converter now attached to ttyUSB0\n",
    "```\n",
    "\n",
    "Am Ende ist der Hinweis auf das Device `ttyUSB0`\n",
    "\n",
    "Wichtig ist auch die Konfiguration im UEnv.txt auf der SD-Karte damit der U-Boot via console erreichbar ist. Ebenfalls der Kernel sollte via console erreichbar sein! Wird noch nachgereicht wenn ich wieder eine SD-Karte erstelle...\n",
    "\n"
   ]
  }
 ],
 "metadata": {
  "kernelspec": {
   "display_name": "Python 3",
   "language": "python",
   "name": "python3"
  },
  "language_info": {
   "codemirror_mode": {
    "name": "ipython",
    "version": 3
   },
   "file_extension": ".py",
   "mimetype": "text/x-python",
   "name": "python",
   "nbconvert_exporter": "python",
   "pygments_lexer": "ipython3",
   "version": "3.5.0"
  }
 },
 "nbformat": 4,
 "nbformat_minor": 0
}
