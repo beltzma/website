{
 "metadata": {
  "name": "",
  "signature": "sha256:f4b19e7f658c107be59154f3b55b27bb242e38e204aa655df731bbec6c64e853"
 },
 "nbformat": 3,
 "nbformat_minor": 0,
 "worksheets": [
  {
   "cells": [
    {
     "cell_type": "markdown",
     "metadata": {},
     "source": [
      "### folgendes Scenario:\n",
      "\n",
      "\n",
      "2 Netzwerkkarten sind mit dem Internet verbunden. Beide in unterschiedlichen Subnetzen ueber unterschiedliche Provider.\n",
      "Problem: Man kann nur eine Default Route festlegen, dh. eigentlich das nur die IP-Adresse erreichbar ist die mit der Default Route konfiguriert ist.\n",
      "\n",
      "LSG: iproute2; sehr leistungsstarkes IP/Routing Paket siehe <http://www.lartc.org>\n",
      "\n",
      "<!-- TEASER_END -->\n",
      "\n",
      "damit l\u00e4sst es sich realisieren, \u00fcber Policies, beide IP-Adressen (oder noch mehr) anzusprechen."
     ]
    },
    {
     "cell_type": "code",
     "collapsed": false,
     "input": [
      "\ufffc\n",
      "![Failover](http://b9i.de/failover.svg)"
     ],
     "language": "python",
     "metadata": {},
     "outputs": []
    },
    {
     "cell_type": "markdown",
     "metadata": {},
     "source": [
      "Im Bild ist das Scenario nochmal dargestellt: \n",
      "\n",
      "* eth0: an dieser Netzwerkkarte ist das interne LAN angeschlossen\n",
      "* eth1: Internet Verbindung via Provider1, mit $IP1 und $Gateway1\n",
      "* eth2: Internet Verbindung via Provider2, mit $IP2 und $Gateway2\n",
      "\n",
      "beide Adressen, $IP1 und $IP2 sollen aus dem Internet erreichbar sein!"
     ]
    },
    {
     "cell_type": "markdown",
     "metadata": {},
     "source": [
      "`cat /etc/iproute2/rt_tables:`\n",
      "   \n",
      "    #\n",
      "    # reserved values\n",
      "    #\n",
      "    255     local\n",
      "    254     main\n",
      "    253     default\n",
      "    0       unspec\n",
      "    #\n",
      "    # local\n",
      "    #\n",
      "    \n",
      "    1 INTER\n",
      "    2 Fail"
     ]
    },
    {
     "cell_type": "code",
     "collapsed": false,
     "input": [
      "    \n",
      "    ip route add $IP_NET1/$MASK1 dev eth1 src $IP1 table INTER\n",
      "    ip route add default via $Gateway1 table INTER\n",
      "    ip route add $IP_NET2/$MASK2 dev eth2 src $IP2 table Fail\n",
      "    ip route add default via $Gateway2 table Fail\n",
      "\n",
      "    ip rule add from $Gateway1 table INTER\n",
      "    ip rule add to $Gateway1 table INTER\n",
      "    ip rule add from $Gatway2 table Fail\n",
      "    ip rule add to $Gateway2 table Fail"
     ],
     "language": "python",
     "metadata": {},
     "outputs": []
    },
    {
     "cell_type": "markdown",
     "metadata": {},
     "source": [
      "Diese Befehle lassen sich gut durch ein Script beim Startup des Systems einpflegen. Unter Centos gibt es jedoch einen eleganteren Weg:"
     ]
    },
    {
     "cell_type": "markdown",
     "metadata": {},
     "source": [
      "### Centos Way\n",
      "\n",
      "Im Ordner `/etc/sysconfig/network-scripts/` wird die Konfiguration der einzelnen Netzwerkkarten vorgenommen. Jede Netzwerkkarte ist dort durch eine Datei repr\u00e4sentiert. z.B. ifcfg-eth2\n",
      "die Synatx in diesen Dateien ist jedoch fest und sie ist noch aus einer Zeit vor iproute2\n",
      "Man kann jedoch f\u00fcr jede Netzwerkkarte 2 weitere Dateien anlegen:\n",
      "\n",
      "* route-eth2\n",
      "* rule-eth2\n",
      "\n",
      "der Inhalt dieser Dateien wird dann direkt an das Kommando `ip` \u00fcbergeben:\n",
      "\n",
      "Inhalt route-eth2:"
     ]
    },
    {
     "cell_type": "code",
     "collapsed": false,
     "input": [
      "    $IP_NET2/$MASK2 dev eth2 src $IP2 table Fail\n",
      "    default via $IP2 dev eth2 table Fail"
     ],
     "language": "python",
     "metadata": {},
     "outputs": []
    },
    {
     "cell_type": "markdown",
     "metadata": {},
     "source": [
      "   \n",
      "Inhalt rule-eth2:"
     ]
    },
    {
     "cell_type": "code",
     "collapsed": false,
     "input": [
      "    from $IP2/32 table Fail\n",
      "    to $IP2/32 table Fail"
     ],
     "language": "python",
     "metadata": {},
     "outputs": []
    },
    {
     "cell_type": "markdown",
     "metadata": {},
     "source": [
      " \n",
      "    \n",
      "Was im oberen Beispiel (f\u00fcr Scripte) noch mit `... $IP1 ...` usw steht, muss nat\u00fcrlich in diesen Dateien direkt durch die Adressen ersetzt werden. Varablen werden in diesen Daten nicht substituiert. Lediglich hier in der Beschreibung stehen Variablen um deutlich zu machen was eingesetzt werden muss."
     ]
    }
   ],
   "metadata": {}
  }
 ]
}