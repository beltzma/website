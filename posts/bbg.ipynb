{
 "cells": [
  {
   "cell_type": "markdown",
   "metadata": {},
   "source": [
    "## Erstes BeagleBone Green angekommen\n",
    "\n",
    "Bei [SeeedStudio](http://www.seeedstudio.com/depot/SeeedStudio-BeagleBone-Green-p-2504.html) bestellt und angekommen.\n",
    "<!-- TEASER_END -->\n",
    "\n",
    "![Erstinbet](../images/BBG.jpg)"
   ]
  },
  {
   "cell_type": "markdown",
   "metadata": {},
   "source": [
    "### erste Installation mit Debian 8.3 Image\n",
    "\n",
    "### CPUfrequenz nach oben setzen:\n",
    "\n",
    "`apt-get install cpufrequtils`\n",
    "\n",
    "dann folgende Datei aendern: ` vi /etc/init.d/cpufrequtils`\n"
   ]
  },
  {
   "cell_type": "markdown",
   "metadata": {},
   "source": [
    "```\n",
    "# eg:   ENABLE=\"true\"\n",
    "#       GOVERNOR=\"ondemand\"\n",
    "#       MAX_SPEED=1000\n",
    "#       MIN_SPEED=500\n",
    "\n",
    "ENABLE=\"true\"\n",
    "GOVERNOR=\"performance\"\n",
    "MAX_SPEED=\"1000\"\n",
    "MIN_SPEED=\"0\"\n",
    "\n",
    "check_governor_avail() {\n",
    "        info=\"/sys/devices/system/cpu/cpu0/cpufreq/scaling_available_governors\"\n",
    "        if [ -f $info ] && grep -q \"\\<$GOVERNOR\\>\" $info ; then\n",
    "                return 0;\n",
    "```"
   ]
  },
  {
   "cell_type": "markdown",
   "metadata": {},
   "source": [
    "Die Änderungen beziehen sich auf folgende Zeilen:\n",
    "<span style=\"color: red;\">Governor</span> und \n",
    "<span style=\"color: red;\">MAX_SPEED</span>\n"
   ]
  }
 ],
 "metadata": {
  "kernelspec": {
   "display_name": "Python 3",
   "language": "python",
   "name": "python3"
  },
  "language_info": {
   "codemirror_mode": {
    "name": "ipython",
    "version": 3
   },
   "file_extension": ".py",
   "mimetype": "text/x-python",
   "name": "python",
   "nbconvert_exporter": "python",
   "pygments_lexer": "ipython3",
   "version": "3.5.1"
  }
 },
 "nbformat": 4,
 "nbformat_minor": 0
}
