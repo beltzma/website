{
 "metadata": {
  "name": "",
  "signature": "sha256:eedaa8fa7940d29e6e081538598b0dc199921509a10c8046e24e828a2da0f06e"
 },
 "nbformat": 3,
 "nbformat_minor": 0,
 "worksheets": [
  {
   "cells": [
    {
     "cell_type": "markdown",
     "metadata": {},
     "source": [
      "Die wichtigsten ISCSI Kommandos die man im t\u00e4glichen Alltag braucht:\n",
      "<!-- TEASER_END -->"
     ]
    },
    {
     "cell_type": "markdown",
     "metadata": {},
     "source": [
      "Status der Verbindung:\n",
      "---\n",
      "    iscsiadm -m session\n",
      "Genauerer Status (Device Name der zugeordnet wurde)\n",
      "---\n",
      "    iscsiadm -m session -P3\n",
      "Scannen eines Portals:\n",
      "---\n",
      "    iscsiadm -m discovery -t sendtargets -p target_IP:port\n",
      "    \n",
      "Wobei target_IP die IP-Adresse des Portals ist.\n",
      "\n",
      "Einloggen ins Portal:\n",
      "---\n",
      "    iscsiadm -m node -l\n",
      "Ausloggen:\n",
      "---\n",
      "    iscsiadm -m node -u"
     ]
    },
    {
     "cell_type": "markdown",
     "metadata": {},
     "source": [
      "Interessanter Link dazu: [Linux.org](http://www.linux.org/threads/iscsi-storage-configuration-using-iscsiadm-command.4241/)"
     ]
    }
   ],
   "metadata": {}
  }
 ]
}