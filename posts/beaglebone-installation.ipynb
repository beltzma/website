{
 "cells": [
  {
   "cell_type": "markdown",
   "metadata": {
    "collapsed": false
   },
   "source": [
    "## Die \"perfekte\" BeagleBoneBlack Installation\n",
    "\n",
    "Ich habe noch ein paar ältere BeagleBoneBlack im Einsatz, welche noch nicht mit 4GB eMMC ausgestattet sind. Da bei den 2GB Geräten mit der Standard Demo Installation immer auch ein X-Server usw installiert wird ist der Flash speicher allein mit der Grundinstallation schon ziemlich ausgereizt. Um die Fähigkeiten des Boards zu betrachten ist dies natürlich gewünscht. Aber: \n",
    "\n",
    "<!-- TEASER_END -->\n",
    "\n",
    "###Eigentlich ist der X-Server für die meisten Anwendungen unnötig.\n",
    "\n",
    "daher die Suche nach einem Weg eine individuelle Installation mit möglichst wenig Paketen. Ich gehe dazu auch auf den Servern gern den Weg über das \"Minimalsystem\", dies ist es was ich auch hier getan habe:\n",
    "\n",
    "da mich auf dem Demo System die Entwicklungsumgebung \"Cloud9\" sehr beeindruckt hat, ist das Ziel folgendes:\n",
    "\n",
    "* Debian Jessie (aktuelle Paket)\n",
    "* Minimalinstall ohne X-Server und Abhängigkeiten\n",
    "* vim und git installiert\n",
    "* Cloud9 installiert und gestartet\n",
    "* Kernel 3.8.13 mit capemgr Support\n",
    "* BBB nur via USB anschliesen und sofort darauf zugreifen (Netzwerk via USB, g_ether)\n",
    "\n",
    "Am leichtesten ist dies alles mit einem Debian Jessie System auf dem PC installiert erreichbar. Dieses System ist nur die Basis und wird nur zum Erstellen der SD-Karte benötigt.\n"
   ]
  },
  {
   "cell_type": "code",
   "execution_count": null,
   "metadata": {
    "collapsed": true
   },
   "outputs": [],
   "source": [
    "git clone https://github.com/RobertCNelson/netinstall.git"
   ]
  },
  {
   "cell_type": "markdown",
   "metadata": {},
   "source": [
    "jetzt gibt es 2 Möglichkeiten, beide funktionieren und habe ich getestet:\n",
    "\n",
    "* mit angeschlossenem Monitor am BeagleBone (wobei /dev/sdb die SD-Karte ist, welche im PC steckt und dann ins BBB kommt):"
   ]
  },
  {
   "cell_type": "code",
   "execution_count": null,
   "metadata": {
    "collapsed": true
   },
   "outputs": [],
   "source": [
    "cd netinstall\n",
    "sudo ./mkmmc.sh --mmc /dev/sdb --dtb am335x-boneblack --distro jessie --firmware"
   ]
  },
  {
   "cell_type": "markdown",
   "metadata": {},
   "source": [
    "oder:\n",
    "\n",
    "* das BBB ist via [serieller Schnittstelle](http://b9i.de/posts/bbb-mit-serieller-schnittstelle-debug.html) am PC angeschlossen und man braucht keinen Monitor bzw Adapter microHDMI <-> HDMI\n"
   ]
  },
  {
   "cell_type": "code",
   "execution_count": null,
   "metadata": {
    "collapsed": true
   },
   "outputs": [],
   "source": [
    "cd netinstall\n",
    "sudo ./mkmmc.sh --mmc /dev/sdb --dtb am335x-boneblack --distro jessie --firmware --serial-mode"
   ]
  },
  {
   "cell_type": "markdown",
   "metadata": {},
   "source": [
    "Nachdem das Skript erfolgreich durchgelaufen ist (dauert ein paar Sekunden/Minuten, es werden die benotigten Pakete aus dem Internet geladen)\n",
    "Kann die SD-Karte aus dem PC genommen und in das BBB gesteckt werden\n",
    "Booten von SD-Karte:\n",
    "* Im Ausgeschaltenem Zustand den \"Boot\" Button drücken\n",
    "* Strom an\n",
    "* nach einigen Sekunden sollte das BBB von der SD-Karte booten\n",
    "\n",
    "### Normale Debian Installation wie auf einem PC (fast) \n",
    "\n",
    "Am Ende nur darauf achten das im \"Taskel\" die Punkte \"SSH-Server\" und \"Minimal...\" angehakt sind.\n",
    "\n",
    "### Pakete installieren\n",
    "\n",
    "Pakete auslesen und in Datei speichern:\n",
    "```\n",
    "dpkg --get-selections > installed-packages.txt\n",
    "```\n",
    "\n",
    "Pakete wieder installieren:\n",
    "```\n",
    "dpkg --set-selections < installed-packages.txt\n",
    "```\n",
    "\n"
   ]
  }
 ],
 "metadata": {
  "kernelspec": {
   "display_name": "Python 3",
   "language": "python",
   "name": "python3"
  },
  "language_info": {
   "codemirror_mode": {
    "name": "ipython",
    "version": 3
   },
   "file_extension": ".py",
   "mimetype": "text/x-python",
   "name": "python",
   "nbconvert_exporter": "python",
   "pygments_lexer": "ipython3",
   "version": "3.4.3"
  }
 },
 "nbformat": 4,
 "nbformat_minor": 0
}
